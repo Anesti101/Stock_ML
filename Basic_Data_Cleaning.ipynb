{
 "cells": [
  {
   "cell_type": "markdown",
   "id": "3d6d29ee-5634-4cf0-aec6-9309d4133f0f",
   "metadata": {},
   "source": [
    "Basic Cleaning Example"
   ]
  },
  {
   "cell_type": "markdown",
   "id": "1dbf9e82-0db2-47f2-910b-7ffd2b6aa97e",
   "metadata": {},
   "source": [
    "Installing Yahoo finance api to get the stock data "
   ]
  },
  {
   "cell_type": "code",
   "execution_count": null,
   "id": "3e711844-a976-4348-89c8-e318d743abea",
   "metadata": {},
   "outputs": [],
   "source": [
    "pip install yfinance "
   ]
  },
  {
   "cell_type": "markdown",
   "id": "6a5f16c5-473f-4260-8f7b-60b2aba368b1",
   "metadata": {},
   "source": [
    "importing the yfinance to get the data, pandas to clean and handle the data and matplotlib to visualise the results "
   ]
  },
  {
   "cell_type": "code",
   "execution_count": null,
   "id": "0b9cfdc6-5d22-49f9-ad57-aa50ba9b830a",
   "metadata": {},
   "outputs": [],
   "source": [
    "import yfinance as yf \n",
    "import pandas as pd\n",
    "import matplotlib.pyplot as plt"
   ]
  },
  {
   "cell_type": "markdown",
   "id": "6ff92c50-f332-47da-b51b-79c173322039",
   "metadata": {},
   "source": [
    "This will enable you to download the Apple stock data for 2024 and print it. "
   ]
  },
  {
   "cell_type": "code",
   "execution_count": null,
   "id": "0953e5cf-554d-4b35-8acf-9d393b36b5f9",
   "metadata": {},
   "outputs": [],
   "source": [
    "apple_df = yf.download(\"AAPL\", start = \"2024-01-01\", end = \"2025-01-01\")\n",
    "print(apple_df.head()) # displays the first few rows of the data"
   ]
  },
  {
   "cell_type": "markdown",
   "id": "45b48273-f622-4177-90a8-a6b3a4c5a895",
   "metadata": {},
   "source": [
    "Before cleaning the data, you can inspect it by loading it using the command below, which will display the Index type (DatetimeIndex), Column data types and Missing values (if any).\n"
   ]
  },
  {
   "cell_type": "code",
   "execution_count": null,
   "id": "fb25ad95-e6a2-4136-926b-333335eeba1d",
   "metadata": {},
   "outputs": [],
   "source": [
    "print(apple_df.info())"
   ]
  },
  {
   "cell_type": "markdown",
   "id": "ad61eeb5-9f5c-416b-a398-ea9f6ee6e672",
   "metadata": {},
   "source": [
    "This command will enable you to get the Summary Statistics by showing you the mean, std, min and max of price columns. This will help detect extreme outliers or weird data (e.g., negative prices)."
   ]
  },
  {
   "cell_type": "code",
   "execution_count": null,
   "id": "bd5f3674-2273-46fa-89ab-31d89ba87074",
   "metadata": {},
   "outputs": [],
   "source": [
    "print(apple_df.describe())"
   ]
  },
  {
   "cell_type": "markdown",
   "id": "6bb7573c-5a97-43a7-a10e-2762bdc6aa57",
   "metadata": {},
   "source": [
    "This command will enable you to check for missing values by showing you counts, this which helps decide if you should impute or drop those rows. "
   ]
  },
  {
   "cell_type": "code",
   "execution_count": null,
   "id": "00957fbf-dff2-4630-ba80-d2a8864d8fcc",
   "metadata": {},
   "outputs": [],
   "source": [
    "print(apple_df.isnull().sum())"
   ]
  },
  {
   "cell_type": "markdown",
   "id": "df859c54-c826-4fa5-9810-a6cba23f747f",
   "metadata": {},
   "source": [
    "> This will allow you to forward fill any missing values; it copies the value from the previous day and keeps the price series smooth."
   ]
  },
  {
   "cell_type": "code",
   "execution_count": 26,
   "id": "93e30a45-b502-42c3-aef2-fb31b3846cd6",
   "metadata": {},
   "outputs": [],
   "source": [
    "apple_df = apple_df.ffill()"
   ]
  },
  {
   "cell_type": "markdown",
   "id": "a7757e06-7cc3-4372-b84a-33dadb50d83e",
   "metadata": {},
   "source": [
    "> This will allow you to remove dupliucates dates."
   ]
  },
  {
   "cell_type": "code",
   "execution_count": 32,
   "id": "e320687b-0d93-4d34-8b46-d4806ee3c9bf",
   "metadata": {},
   "outputs": [],
   "source": [
    "apple_df = apple_df[~apple_df.index.duplicated(keep='first')]"
   ]
  },
  {
   "cell_type": "markdown",
   "id": "36c5b061-2a76-47f6-bea2-d7a5494ebec4",
   "metadata": {},
   "source": [
    "> This will allow you to validate the data, by confirming if the columns are numeric and there are no negative prices."
   ]
  },
  {
   "cell_type": "markdown",
   "id": "f885559e-e8ac-4041-9b4d-4a5b322b641a",
   "metadata": {},
   "source": [
    "This will make the Data column become a normal column istead of a index one, which will make it easier to use later for the graph. "
   ]
  },
  {
   "cell_type": "code",
   "execution_count": 36,
   "id": "723f5fca-a5d8-45ed-862f-90e0030ef4f1",
   "metadata": {},
   "outputs": [],
   "source": [
    "apple_df.reset_index(inplace=True)"
   ]
  },
  {
   "cell_type": "code",
   "execution_count": null,
   "id": "879472f5-bc0f-437a-bb35-330bff20a77f",
   "metadata": {},
   "outputs": [],
   "source": [
    "print((apple_df[[\"Open\", \"Close\"]] > 0).all()) "
   ]
  },
  {
   "cell_type": "markdown",
   "id": "863ac945-afce-4b3d-b6e0-0411345c3048",
   "metadata": {},
   "source": [
    "if you want you can save the cleaned data."
   ]
  },
  {
   "cell_type": "code",
   "execution_count": 34,
   "id": "fd409f06-3215-48bf-9ea3-9b890d7bed05",
   "metadata": {},
   "outputs": [
    {
     "name": "stdout",
     "output_type": "stream",
     "text": [
      "Clean data saved!\n"
     ]
    }
   ],
   "source": [
    "apple_df.to_csv(\"apple_stock_clean.csv\", index=False)\n",
    "print(\"Clean data saved!\")"
   ]
  },
  {
   "cell_type": "markdown",
   "id": "eb6dd2f7-05d1-4080-a9d5-a56003840480",
   "metadata": {},
   "source": [
    "This will allow you to plot the data onto a graph to spot any anomalies or see trends."
   ]
  },
  {
   "cell_type": "code",
   "execution_count": null,
   "id": "c073e02b-b08c-44a6-8947-2909e78a711b",
   "metadata": {},
   "outputs": [],
   "source": [
    "plt.figure(figsize=(10,5))\n",
    "plt.plot(apple_df[\"Date\"], apple_df[\"Close\"], label=\"Apple Close Price\", linewidth=2)\n",
    "plt.title(\"Apple Stock Price (Cleaned Data)\")\n",
    "plt.xlabel(\"Date\")\n",
    "plt.ylabel(\"Price (USD)\")\n",
    "plt.legend()\n",
    "plt.show()\n"
   ]
  },
  {
   "cell_type": "markdown",
   "id": "c73635ac-5e81-4f77-b383-37ec6c42b9d3",
   "metadata": {},
   "source": [
    "This ensures my model trains on a realistic, consistent dataset, a crucial foundation before any predictive modelling."
   ]
  }
 ],
 "metadata": {
  "kernelspec": {
   "display_name": "Python 3 (ipykernel)",
   "language": "python",
   "name": "python3"
  },
  "language_info": {
   "codemirror_mode": {
    "name": "ipython",
    "version": 3
   },
   "file_extension": ".py",
   "mimetype": "text/x-python",
   "name": "python",
   "nbconvert_exporter": "python",
   "pygments_lexer": "ipython3",
   "version": "3.12.3"
  }
 },
 "nbformat": 4,
 "nbformat_minor": 5
}
