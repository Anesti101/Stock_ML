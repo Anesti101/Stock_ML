{
 "cells": [
  {
   "cell_type": "markdown",
   "id": "3d6d29ee-5634-4cf0-aec6-9309d4133f0f",
   "metadata": {},
   "source": [
    "Basic Cleaning Example"
   ]
  },
  {
   "cell_type": "markdown",
   "id": "1dbf9e82-0db2-47f2-910b-7ffd2b6aa97e",
   "metadata": {},
   "source": [
    "Installing Yahoo finance api to get the stock data "
   ]
  },
  {
   "cell_type": "code",
   "execution_count": null,
   "id": "2b5213b5-cbe7-486d-8f9d-4e02bd0933c9",
   "metadata": {},
   "outputs": [],
   "source": [
    "pip install yfinance "
   ]
  },
  {
   "cell_type": "markdown",
   "id": "6a5f16c5-473f-4260-8f7b-60b2aba368b1",
   "metadata": {},
   "source": [
    "importing the yfinance to get the data, pandas to clean and handle the data and matplotlib to visualise the results "
   ]
  },
  {
   "cell_type": "code",
   "execution_count": 2,
   "id": "0b9cfdc6-5d22-49f9-ad57-aa50ba9b830a",
   "metadata": {},
   "outputs": [],
   "source": [
    "import yfinance as yf \n",
    "import pandas as pd\n",
    "import matplotlib.pyplot as plt"
   ]
  },
  {
   "cell_type": "markdown",
   "id": "6ff92c50-f332-47da-b51b-79c173322039",
   "metadata": {},
   "source": [
    "This will enable you to download the Apple stock data for 2024 and print it. "
   ]
  },
  {
   "cell_type": "code",
   "execution_count": 3,
   "id": "0953e5cf-554d-4b35-8acf-9d393b36b5f9",
   "metadata": {},
   "outputs": [
    {
     "name": "stderr",
     "output_type": "stream",
     "text": [
      "C:\\Users\\anest\\AppData\\Local\\Temp\\ipykernel_18252\\1440574700.py:1: FutureWarning: YF.download() has changed argument auto_adjust default to True\n",
      "  apple_df = yf.download(\"AAPL\", start = \"2024-01-01\", end = \"2025-01-01\")\n",
      "[*********************100%***********************]  1 of 1 completed"
     ]
    },
    {
     "name": "stdout",
     "output_type": "stream",
     "text": [
      "Price            Close        High         Low        Open    Volume\n",
      "Ticker            AAPL        AAPL        AAPL        AAPL      AAPL\n",
      "Date                                                                \n",
      "2024-01-02  184.081497  186.857993  182.346189  185.578815  82488700\n",
      "2024-01-03  182.703171  184.319491  181.890048  182.673424  58414500\n",
      "2024-01-04  180.382828  181.552914  179.361476  180.620803  71983600\n",
      "2024-01-05  179.658951  181.225688  178.657435  180.462163  62379700\n",
      "2024-01-08  184.002182  184.041855  179.976269  180.561312  59144500\n"
     ]
    },
    {
     "name": "stderr",
     "output_type": "stream",
     "text": [
      "\n"
     ]
    }
   ],
   "source": [
    "apple_df = yf.download(\"AAPL\", start = \"2024-01-01\", end = \"2025-01-01\")\n",
    "print(apple_df.head()) # displays the first few rows of the data"
   ]
  },
  {
   "cell_type": "markdown",
   "id": "45b48273-f622-4177-90a8-a6b3a4c5a895",
   "metadata": {},
   "source": [
    "Before cleaning the data, you can inspect it by loading it using the command below, which will display the Index type (DatetimeIndex), Column data types and Missing values (if any).\n"
   ]
  },
  {
   "cell_type": "code",
   "execution_count": 4,
   "id": "fb25ad95-e6a2-4136-926b-333335eeba1d",
   "metadata": {},
   "outputs": [
    {
     "name": "stdout",
     "output_type": "stream",
     "text": [
      "<class 'pandas.core.frame.DataFrame'>\n",
      "DatetimeIndex: 252 entries, 2024-01-02 to 2024-12-31\n",
      "Data columns (total 5 columns):\n",
      " #   Column          Non-Null Count  Dtype  \n",
      "---  ------          --------------  -----  \n",
      " 0   (Close, AAPL)   252 non-null    float64\n",
      " 1   (High, AAPL)    252 non-null    float64\n",
      " 2   (Low, AAPL)     252 non-null    float64\n",
      " 3   (Open, AAPL)    252 non-null    float64\n",
      " 4   (Volume, AAPL)  252 non-null    int64  \n",
      "dtypes: float64(4), int64(1)\n",
      "memory usage: 11.8 KB\n",
      "None\n"
     ]
    }
   ],
   "source": [
    "print(apple_df.info())"
   ]
  },
  {
   "cell_type": "markdown",
   "id": "ad61eeb5-9f5c-416b-a398-ea9f6ee6e672",
   "metadata": {},
   "source": [
    "This command will enable you to get the Summary Statistics by showing you the mean, std, min and max of price columns. This will help detect extreme outliers or weird data (e.g., negative prices)."
   ]
  },
  {
   "cell_type": "code",
   "execution_count": 5,
   "id": "bd5f3674-2273-46fa-89ab-31d89ba87074",
   "metadata": {},
   "outputs": [
    {
     "name": "stdout",
     "output_type": "stream",
     "text": [
      "Price        Close        High         Low        Open        Volume\n",
      "Ticker        AAPL        AAPL        AAPL        AAPL          AAPL\n",
      "count   252.000000  252.000000  252.000000  252.000000  2.520000e+02\n",
      "mean    206.038651  207.733222  204.060286  205.786234  5.710678e+07\n",
      "std      25.624448   25.702995   25.254540   25.454003  3.072330e+07\n",
      "min     163.823563  165.213575  162.910124  164.171055  2.323470e+07\n",
      "25%     182.803547  183.944858  181.040213  182.342291  4.174738e+07\n",
      "50%     213.025848  215.710762  210.719276  213.070592  4.983090e+07\n",
      "75%     226.344086  228.302482  224.335928  226.427766  6.279472e+07\n",
      "max     258.103729  259.179926  256.718662  257.276679  3.186799e+08\n"
     ]
    }
   ],
   "source": [
    "print(apple_df.describe())"
   ]
  },
  {
   "cell_type": "markdown",
   "id": "6bb7573c-5a97-43a7-a10e-2762bdc6aa57",
   "metadata": {},
   "source": [
    "This command will enable you to check for missing values by showing you counts, this which helps decide if you should impute or drop those rows. "
   ]
  },
  {
   "cell_type": "code",
   "execution_count": 6,
   "id": "00957fbf-dff2-4630-ba80-d2a8864d8fcc",
   "metadata": {},
   "outputs": [
    {
     "name": "stdout",
     "output_type": "stream",
     "text": [
      "Price   Ticker\n",
      "Close   AAPL      0\n",
      "High    AAPL      0\n",
      "Low     AAPL      0\n",
      "Open    AAPL      0\n",
      "Volume  AAPL      0\n",
      "dtype: int64\n"
     ]
    }
   ],
   "source": [
    "print(apple_df.isnull().sum())"
   ]
  },
  {
   "cell_type": "markdown",
   "id": "df859c54-c826-4fa5-9810-a6cba23f747f",
   "metadata": {},
   "source": [
    "> This will allow you to forward fill any missing values; it copies the value from the previous day and keeps the price series smooth."
   ]
  },
  {
   "cell_type": "code",
   "execution_count": 7,
   "id": "93e30a45-b502-42c3-aef2-fb31b3846cd6",
   "metadata": {},
   "outputs": [],
   "source": [
    "apple_df = apple_df.ffill()"
   ]
  },
  {
   "cell_type": "markdown",
   "id": "a7757e06-7cc3-4372-b84a-33dadb50d83e",
   "metadata": {},
   "source": [
    "> This will allow you to remove dupliucates dates."
   ]
  },
  {
   "cell_type": "code",
   "execution_count": 10,
   "id": "e320687b-0d93-4d34-8b46-d4806ee3c9bf",
   "metadata": {},
   "outputs": [],
   "source": [
    "apple_df = apple_df[~apple_df.index.duplicated(keep='first')]"
   ]
  },
  {
   "cell_type": "markdown",
   "id": "36c5b061-2a76-47f6-bea2-d7a5494ebec4",
   "metadata": {},
   "source": [
    "> This will allow you to validate the data, by confirming if the columns are numeric and there are no negative prices."
   ]
  },
  {
   "cell_type": "markdown",
   "id": "f885559e-e8ac-4041-9b4d-4a5b322b641a",
   "metadata": {},
   "source": [
    "This will make the Data column become a normal column istead of a index one, which will make it easier to use later for the graph. "
   ]
  },
  {
   "cell_type": "code",
   "execution_count": 11,
   "id": "723f5fca-a5d8-45ed-862f-90e0030ef4f1",
   "metadata": {},
   "outputs": [],
   "source": [
    "apple_df.reset_index(inplace=True)"
   ]
  },
  {
   "cell_type": "code",
   "execution_count": 12,
   "id": "879472f5-bc0f-437a-bb35-330bff20a77f",
   "metadata": {},
   "outputs": [
    {
     "name": "stdout",
     "output_type": "stream",
     "text": [
      "Price  Ticker\n",
      "Open   AAPL      True\n",
      "Close  AAPL      True\n",
      "dtype: bool\n"
     ]
    }
   ],
   "source": [
    "print((apple_df[[\"Open\", \"Close\"]] > 0).all()) "
   ]
  },
  {
   "cell_type": "markdown",
   "id": "863ac945-afce-4b3d-b6e0-0411345c3048",
   "metadata": {},
   "source": [
    "if you want you can save the cleaned data."
   ]
  },
  {
   "cell_type": "code",
   "execution_count": 13,
   "id": "fd409f06-3215-48bf-9ea3-9b890d7bed05",
   "metadata": {},
   "outputs": [
    {
     "name": "stdout",
     "output_type": "stream",
     "text": [
      "Clean data saved!\n"
     ]
    }
   ],
   "source": [
    "apple_df.to_csv(\"apple_stock_clean.csv\", index=False)\n",
    "print(\"Clean data saved!\")"
   ]
  },
  {
   "cell_type": "markdown",
   "id": "eb6dd2f7-05d1-4080-a9d5-a56003840480",
   "metadata": {},
   "source": [
    "This will allow you to plot the data onto a graph to spot any anomalies or see trends."
   ]
  },
  {
   "cell_type": "code",
   "execution_count": 14,
   "id": "c073e02b-b08c-44a6-8947-2909e78a711b",
   "metadata": {},
   "outputs": [
    {
     "data": {
      "image/png": "[encoded data removed]",
      "text/plain": [
       "<Figure size 1000x500 with 1 Axes>"
      ]
     },
     "metadata": {},
     "output_type": "display_data"
    }
   ],
   "source": [
    "plt.figure(figsize=(10,5))\n",
    "plt.plot(apple_df[\"Date\"], apple_df[\"Close\"], label=\"Apple Close Price\", linewidth=2)\n",
    "plt.title(\"Apple Stock Price (Cleaned Data)\")\n",
    "plt.xlabel(\"Date\")\n",
    "plt.ylabel(\"Price (USD)\")\n",
    "plt.legend()\n",
    "plt.show()\n"
   ]
  },
  {
   "cell_type": "markdown",
   "id": "c73635ac-5e81-4f77-b383-37ec6c42b9d3",
   "metadata": {},
   "source": [
    "This ensures my model trains on a realistic, consistent dataset, a crucial foundation before any predictive modelling."
   ]
  }
 ],
 "metadata": {
  "kernelspec": {
   "display_name": "Python 3 (ipykernel)",
   "language": "python",
   "name": "python3"
  },
  "language_info": {
   "codemirror_mode": {
    "name": "ipython",
    "version": 3
   },
   "file_extension": ".py",
   "mimetype": "text/x-python",
   "name": "python",
   "nbconvert_exporter": "python",
   "pygments_lexer": "ipython3",
   "version": "3.12.3"
  }
 },
 "nbformat": 4,
 "nbformat_minor": 5
}
