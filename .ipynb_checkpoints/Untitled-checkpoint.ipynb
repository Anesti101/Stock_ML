{
 "cells": [
  {
   "cell_type": "raw",
   "id": "f87245f2-34fd-4fdb-9404-66b5c4848ee3",
   "metadata": {},
   "source": [
    "Basic Cleaning Example"
   ]
  },
  {
   "cell_type": "markdown",
   "id": "1dbf9e82-0db2-47f2-910b-7ffd2b6aa97e",
   "metadata": {},
   "source": [
    "Installing Yahoo finance api to get the stock data "
   ]
  },
  {
   "cell_type": "code",
   "execution_count": null,
   "id": "3e711844-a976-4348-89c8-e318d743abea",
   "metadata": {},
   "outputs": [],
   "source": [
    "pip install yfinance "
   ]
  },
  {
   "cell_type": "markdown",
   "id": "6a5f16c5-473f-4260-8f7b-60b2aba368b1",
   "metadata": {},
   "source": [
    "importing the yfinace to get the data, pandas to cleacn and handle the data and matplotlib to to visualise the results "
   ]
  },
  {
   "cell_type": "code",
   "execution_count": 31,
   "id": "d43f5f66-2c72-40e7-89a5-4eb0c780b63d",
   "metadata": {},
   "outputs": [],
   "source": [
    "import yfinance as yf \n",
    "import pandas as pd\n",
    "import matplotlib.pyplot as plt"
   ]
  },
  {
   "cell_type": "markdown",
   "id": "6ff92c50-f332-47da-b51b-79c173322039",
   "metadata": {},
   "source": [
    "This will enable you to download the Apple stock data for 2024 and print it. "
   ]
  },
  {
   "cell_type": "code",
   "execution_count": 30,
   "id": "5f914b7a-2526-44b8-b059-eababedeb6ac",
   "metadata": {},
   "outputs": [
    {
     "name": "stderr",
     "output_type": "stream",
     "text": [
      "C:\\Users\\anest\\AppData\\Local\\Temp\\ipykernel_27292\\1440574700.py:1: FutureWarning: YF.download() has changed argument auto_adjust default to True\n",
      "  apple_df = yf.download(\"AAPL\", start = \"2024-01-01\", end = \"2025-01-01\")\n",
      "[*********************100%***********************]  1 of 1 completed"
     ]
    },
    {
     "name": "stdout",
     "output_type": "stream",
     "text": [
      "Price            Close        High         Low        Open    Volume\n",
      "Ticker            AAPL        AAPL        AAPL        AAPL      AAPL\n",
      "Date                                                                \n",
      "2024-01-02  184.081512  186.858009  182.346204  185.578830  82488700\n",
      "2024-01-03  182.703171  184.319491  181.890048  182.673424  58414500\n",
      "2024-01-04  180.382828  181.552914  179.361476  180.620803  71983600\n",
      "2024-01-05  179.658951  181.225688  178.657435  180.462163  62379700\n",
      "2024-01-08  184.002182  184.041855  179.976269  180.561312  59144500\n"
     ]
    },
    {
     "name": "stderr",
     "output_type": "stream",
     "text": [
      "\n"
     ]
    }
   ],
   "source": [
    "apple_df = yf.download(\"AAPL\", start = \"2024-01-01\", end = \"2025-01-01\")\n",
    "print(apple_df.head()) # displays the first few rows of the data"
   ]
  },
  {
   "cell_type": "markdown",
   "id": "45b48273-f622-4177-90a8-a6b3a4c5a895",
   "metadata": {},
   "source": [
    "Before cleaning the data, you can inspect it by loading it using the command below, which will display the Index type (DatetimeIndex), Column data types and Missing values (if any).\n"
   ]
  },
  {
   "cell_type": "code",
   "execution_count": 29,
   "id": "1716c8d1-1c1a-47d3-ba6d-024c351c0cfa",
   "metadata": {},
   "outputs": [
    {
     "name": "stdout",
     "output_type": "stream",
     "text": [
      "<class 'pandas.core.frame.DataFrame'>\n",
      "DatetimeIndex: 252 entries, 2024-01-02 to 2024-12-31\n",
      "Data columns (total 5 columns):\n",
      " #   Column          Non-Null Count  Dtype  \n",
      "---  ------          --------------  -----  \n",
      " 0   (Close, AAPL)   252 non-null    float64\n",
      " 1   (High, AAPL)    252 non-null    float64\n",
      " 2   (Low, AAPL)     252 non-null    float64\n",
      " 3   (Open, AAPL)    252 non-null    float64\n",
      " 4   (Volume, AAPL)  252 non-null    int64  \n",
      "dtypes: float64(4), int64(1)\n",
      "memory usage: 11.8 KB\n",
      "None\n"
     ]
    }
   ],
   "source": [
    "print(apple_df.info())"
   ]
  },
  {
   "cell_type": "markdown",
   "id": "ad61eeb5-9f5c-416b-a398-ea9f6ee6e672",
   "metadata": {},
   "source": [
    "This command will enable you to get the Summary Statistics by showing you the mean, std, min and max of price columns. This will help detect extreme outliers or weird data (e.g., negative prices)."
   ]
  },
  {
   "cell_type": "code",
   "execution_count": 28,
   "id": "7219d3cd-9511-423a-903a-a431da0d043c",
   "metadata": {},
   "outputs": [
    {
     "name": "stdout",
     "output_type": "stream",
     "text": [
      "Price        Close        High         Low        Open        Volume\n",
      "Ticker        AAPL        AAPL        AAPL        AAPL          AAPL\n",
      "count   252.000000  252.000000  252.000000  252.000000  2.520000e+02\n",
      "mean    206.038653  207.733224  204.060288  205.786236  5.710678e+07\n",
      "std      25.624448   25.702995   25.254540   25.454003  3.072330e+07\n",
      "min     163.823563  165.213575  162.910124  164.171070  2.323470e+07\n",
      "25%     182.803558  183.944843  181.040198  182.342302  4.174738e+07\n",
      "50%     213.025856  215.710762  210.719276  213.070592  4.983090e+07\n",
      "75%     226.344086  228.302482  224.335928  226.427766  6.279472e+07\n",
      "max     258.103729  259.179926  256.718662  257.276679  3.186799e+08\n"
     ]
    }
   ],
   "source": [
    "print(apple_df.describe())"
   ]
  },
  {
   "cell_type": "markdown",
   "id": "6bb7573c-5a97-43a7-a10e-2762bdc6aa57",
   "metadata": {},
   "source": [
    "This command will enable you to check for missing values by showing you counts, this which helps decide if you should impute or drop those rows. "
   ]
  },
  {
   "cell_type": "code",
   "execution_count": 27,
   "id": "74adbc27-cbb6-49e1-b9e3-3ce1ca40b6f9",
   "metadata": {},
   "outputs": [
    {
     "name": "stdout",
     "output_type": "stream",
     "text": [
      "<bound method DataFrame.sum of Price       Close   High    Low   Open Volume\n",
      "Ticker       AAPL   AAPL   AAPL   AAPL   AAPL\n",
      "Date                                         \n",
      "2024-01-02  False  False  False  False  False\n",
      "2024-01-03  False  False  False  False  False\n",
      "2024-01-04  False  False  False  False  False\n",
      "2024-01-05  False  False  False  False  False\n",
      "2024-01-08  False  False  False  False  False\n",
      "...           ...    ...    ...    ...    ...\n",
      "2024-12-24  False  False  False  False  False\n",
      "2024-12-26  False  False  False  False  False\n",
      "2024-12-27  False  False  False  False  False\n",
      "2024-12-30  False  False  False  False  False\n",
      "2024-12-31  False  False  False  False  False\n",
      "\n",
      "[252 rows x 5 columns]>\n"
     ]
    }
   ],
   "source": [
    "print(apple_df.isnull().sum)"
   ]
  },
  {
   "cell_type": "markdown",
   "id": "df859c54-c826-4fa5-9810-a6cba23f747f",
   "metadata": {},
   "source": [
    "> This will allow you to forward fill any missing values; it copies the value from the previous day and keeps the price series smooth."
   ]
  },
  {
   "cell_type": "code",
   "execution_count": 26,
   "id": "93e30a45-b502-42c3-aef2-fb31b3846cd6",
   "metadata": {},
   "outputs": [],
   "source": [
    "apple_df = apple_df.ffill()"
   ]
  },
  {
   "cell_type": "markdown",
   "id": "a7757e06-7cc3-4372-b84a-33dadb50d83e",
   "metadata": {},
   "source": [
    "> This will allow you to remove dupliucates dates."
   ]
  },
  {
   "cell_type": "code",
   "execution_count": 32,
   "id": "e320687b-0d93-4d34-8b46-d4806ee3c9bf",
   "metadata": {},
   "outputs": [],
   "source": [
    "apple_df = apple_df[~apple_df.index.duplicated(keep='first')]"
   ]
  },
  {
   "cell_type": "markdown",
   "id": "36c5b061-2a76-47f6-bea2-d7a5494ebec4",
   "metadata": {},
   "source": [
    "> This will allow you to validate the data, by confirming if the columns are numeric and there are no negative prices."
   ]
  },
  {
   "cell_type": "markdown",
   "id": "f885559e-e8ac-4041-9b4d-4a5b322b641a",
   "metadata": {},
   "source": [
    "This will make the Data column become a normal column istead of a index one, which will make it easier to use later for the graph. "
   ]
  },
  {
   "cell_type": "code",
   "execution_count": 36,
   "id": "723f5fca-a5d8-45ed-862f-90e0030ef4f1",
   "metadata": {},
   "outputs": [],
   "source": [
    "apple_df.reset_index(inplace=True)"
   ]
  },
  {
   "cell_type": "code",
   "execution_count": 33,
   "id": "9eedbe84-c2d9-448b-882e-5115fb174787",
   "metadata": {},
   "outputs": [
    {
     "name": "stdout",
     "output_type": "stream",
     "text": [
      "Price  Ticker\n",
      "Open   AAPL      True\n",
      "Close  AAPL      True\n",
      "dtype: bool\n"
     ]
    }
   ],
   "source": [
    "print((apple_df[[\"Open\", \"Close\"]] > 0).all()) "
   ]
  },
  {
   "cell_type": "markdown",
   "id": "863ac945-afce-4b3d-b6e0-0411345c3048",
   "metadata": {},
   "source": [
    "if you want you can save the cleaned data."
   ]
  },
  {
   "cell_type": "code",
   "execution_count": 34,
   "id": "fd409f06-3215-48bf-9ea3-9b890d7bed05",
   "metadata": {},
   "outputs": [
    {
     "name": "stdout",
     "output_type": "stream",
     "text": [
      "Clean data saved!\n"
     ]
    }
   ],
   "source": [
    "apple_df.to_csv(\"apple_stock_clean.csv\", index=False)\n",
    "print(\"Clean data saved!\")"
   ]
  },
  {
   "cell_type": "markdown",
   "id": "eb6dd2f7-05d1-4080-a9d5-a56003840480",
   "metadata": {},
   "source": []
  },
  {
   "cell_type": "code",
   "execution_count": 37,
   "id": "1c355d6d-6c8c-4f9f-8400-e55b5f1b6417",
   "metadata": {},
   "outputs": [
    {
     "data": {
      "image/png": "[encoded data removed]",
      "text/plain": [
       "<Figure size 1000x500 with 1 Axes>"
      ]
     },
     "metadata": {},
     "output_type": "display_data"
    }
   ],
   "source": [
    "plt.figure(figsize=(10,5))\n",
    "plt.plot(apple_df[\"Date\"], apple_df[\"Close\"], label=\"Apple Close Price\", linewidth=2)\n",
    "plt.title(\"Apple Stock Price (Cleaned Data)\")\n",
    "plt.xlabel(\"Date\")\n",
    "plt.ylabel(\"Price (USD)\")\n",
    "plt.legend()\n",
    "plt.show()\n"
   ]
  }
 ],
 "metadata": {
  "kernelspec": {
   "display_name": "Python 3 (ipykernel)",
   "language": "python",
   "name": "python3"
  },
  "language_info": {
   "codemirror_mode": {
    "name": "ipython",
    "version": 3
   },
   "file_extension": ".py",
   "mimetype": "text/x-python",
   "name": "python",
   "nbconvert_exporter": "python",
   "pygments_lexer": "ipython3",
   "version": "3.12.3"
  }
 },
 "nbformat": 4,
 "nbformat_minor": 5
}
